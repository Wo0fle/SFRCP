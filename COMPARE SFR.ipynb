{
 "cells": [
  {
   "cell_type": "markdown",
   "metadata": {},
   "source": [
    "# Introduction\n",
    "\n",
    "### SFRCP: Data Analysis\n",
    "\n",
    "This is the program that was used for my study, \"Comparison of Star Formation Rate in Spiral versus Elliptical Galaxies.\"\n",
    "\n",
    "It will be split into different sections for simplicity, with comments explaining each section of code.\n",
    "\n",
    "##### Note: This is a new program that was created after I decided to revise my original study."
   ]
  },
  {
   "cell_type": "markdown",
   "metadata": {},
   "source": [
    "# USE THIS\n",
    "\n",
    "https://www.reneshbedre.com/blog/ttest.html#calculate-two-sample-t-test-in-python"
   ]
  },
  {
   "cell_type": "markdown",
   "metadata": {},
   "source": [
    "# Imports and Setup"
   ]
  },
  {
   "cell_type": "code",
   "execution_count": 6,
   "metadata": {},
   "outputs": [],
   "source": [
    "from bioinfokit.analys import get_data, stat\n",
    "\n",
    "res = stat()\n",
    "\n",
    "prefix = 'saved raw data/'\n",
    "suffix = '.csv'\n",
    "FUV = 'FUV/'\n",
    "NUV = 'NUV/'\n",
    "w1 = 'w1/'\n",
    "w3 = 'w3/'\n",
    "elliptical = 'elliptical/' \n",
    "spiral =  'spiral/'"
   ]
  },
  {
   "cell_type": "code",
   "execution_count": 7,
   "metadata": {},
   "outputs": [
    {
     "data": {
      "text/plain": [
       "''"
      ]
     },
     "execution_count": 7,
     "metadata": {},
     "output_type": "execute_result"
    }
   ],
   "source": [
    "# loop over all files somehow\n",
    "    # \n",
    "    # \n",
    "    # \n",
    "\n",
    "# code from website above\n",
    "\"\"\"\n",
    "    df = get_data('t_ind_samp').data\n",
    "    res = stat()\n",
    "    res.ttest(df=df, xfac=\"Genotype\", res=\"yield\", test_type=2)\n",
    "    print(res.summary)\n",
    "\"\"\""
   ]
  }
 ],
 "metadata": {
  "kernelspec": {
   "display_name": "Python 3.10.6 64-bit (microsoft store)",
   "language": "python",
   "name": "python3"
  },
  "language_info": {
   "codemirror_mode": {
    "name": "ipython",
    "version": 3
   },
   "file_extension": ".py",
   "mimetype": "text/x-python",
   "name": "python",
   "nbconvert_exporter": "python",
   "pygments_lexer": "ipython3",
   "version": "3.10.6"
  },
  "orig_nbformat": 4,
  "vscode": {
   "interpreter": {
    "hash": "9e2a8edafbbdb33e248b28cd9f686da08c396ebf256aac5d3b0e9b48918f63fe"
   }
  }
 },
 "nbformat": 4,
 "nbformat_minor": 2
}
