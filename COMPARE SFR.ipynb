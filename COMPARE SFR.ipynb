{
 "cells": [
  {
   "cell_type": "markdown",
   "metadata": {},
   "source": [
    "# Introduction\n",
    "\n",
    "### SFRCP: Data Analysis\n",
    "\n",
    "This is the program that was used for my study, \"Comparison of Star Formation Rate in Spiral versus Elliptical Galaxies.\"\n",
    "\n",
    "It will be split into different sections for simplicity, with comments explaining each section of code.\n",
    "\n",
    "##### Note: This is a new program that was created after I decided to revise my original study."
   ]
  }
 ],
 "metadata": {
  "kernelspec": {
   "display_name": "Python 3.10.6 64-bit (microsoft store)",
   "language": "python",
   "name": "python3"
  },
  "language_info": {
   "name": "python",
   "version": "3.10.6"
  },
  "orig_nbformat": 4,
  "vscode": {
   "interpreter": {
    "hash": "9e2a8edafbbdb33e248b28cd9f686da08c396ebf256aac5d3b0e9b48918f63fe"
   }
  }
 },
 "nbformat": 4,
 "nbformat_minor": 2
}
