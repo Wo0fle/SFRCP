{
 "cells": [
  {
   "cell_type": "markdown",
   "metadata": {},
   "source": [
    "# Introduction\n",
    "\n",
    "### SFRCP: Data Analysis\n",
    "\n",
    "This is the program that was used for my study, \"Comparison of Star Formation Rate in Spiral versus Elliptical Galaxies.\"\n",
    "\n",
    "It will be split into different sections for simplicity, with comments explaining each section of code.\n",
    "\n",
    "##### Note: This is a new program that was created after I decided to revise my original study."
   ]
  },
  {
   "cell_type": "markdown",
   "metadata": {},
   "source": [
    "# Imports and Setup"
   ]
  },
  {
   "cell_type": "code",
   "execution_count": null,
   "metadata": {},
   "outputs": [],
   "source": [
    "import csv\n",
    "import numpy as np\n",
    "import pandas as pd\n",
    "from bioinfokit.analys import stat\n",
    "\n",
    "res = stat()\n",
    "\n",
    "prefix = 'saved raw data/' # might not need lots of these, check when done\n",
    "FUV = 'FUV/'\n",
    "NUV = 'NUV/'\n",
    "w1 = 'w1/'\n",
    "w3 = 'w3/'"
   ]
  },
  {
   "cell_type": "markdown",
   "metadata": {},
   "source": [
    "# Create \"Super Galaxies\""
   ]
  },
  {
   "cell_type": "code",
   "execution_count": null,
   "metadata": {},
   "outputs": [],
   "source": [
    "# create super_elliptical and super_spiral (avg all data to get 50 final data points)\n",
    "# top down design time"
   ]
  },
  {
   "cell_type": "code",
   "execution_count": 41,
   "metadata": {},
   "outputs": [
    {
     "name": "stdout",
     "output_type": "stream",
     "text": [
      "['w1/spiral/NGC 300-raw_mean.csv', 'w1/spiral/M 99-raw_mean.csv', 'w1/spiral/NGC 3938-raw_mean.csv', 'w1/spiral/NGC 3184-raw_mean.csv', 'w1/spiral/M 100-raw_mean.csv', 'w1/spiral/M 74-raw_mean.csv', 'w1/elliptical/NGC 1304-raw_mean.csv', 'w1/elliptical/NGC 3265-raw_mean.csv', 'w1/elliptical/NGC 855-raw_mean.csv', 'w1/elliptical/NGC 1404-raw_mean.csv', 'w1/elliptical/NGC 584-raw_mean.csv', 'w1/elliptical/NGC 5866-raw_mean.csv', 'w1/spiral/NGC 300-raw_sum.csv', 'w1/spiral/M 99-raw_sum.csv', 'w1/spiral/NGC 3938-raw_sum.csv', 'w1/spiral/NGC 3184-raw_sum.csv', 'w1/spiral/M 100-raw_sum.csv', 'w1/spiral/M 74-raw_sum.csv', 'w1/elliptical/NGC 1304-raw_sum.csv', 'w1/elliptical/NGC 3265-raw_sum.csv', 'w1/elliptical/NGC 855-raw_sum.csv', 'w1/elliptical/NGC 1404-raw_sum.csv', 'w1/elliptical/NGC 584-raw_sum.csv', 'w1/elliptical/NGC 5866-raw_sum.csv', 'w3/spiral/NGC 300-raw_mean.csv', 'w3/spiral/M 99-raw_mean.csv', 'w3/spiral/NGC 3938-raw_mean.csv', 'w3/spiral/NGC 3184-raw_mean.csv', 'w3/spiral/M 100-raw_mean.csv', 'w3/spiral/M 74-raw_mean.csv', 'w3/elliptical/NGC 1304-raw_mean.csv', 'w3/elliptical/NGC 3265-raw_mean.csv', 'w3/elliptical/NGC 855-raw_mean.csv', 'w3/elliptical/NGC 1404-raw_mean.csv', 'w3/elliptical/NGC 584-raw_mean.csv', 'w3/elliptical/NGC 5866-raw_mean.csv', 'w3/spiral/NGC 300-raw_sum.csv', 'w3/spiral/M 99-raw_sum.csv', 'w3/spiral/NGC 3938-raw_sum.csv', 'w3/spiral/NGC 3184-raw_sum.csv', 'w3/spiral/M 100-raw_sum.csv', 'w3/spiral/M 74-raw_sum.csv', 'w3/elliptical/NGC 1304-raw_sum.csv', 'w3/elliptical/NGC 3265-raw_sum.csv', 'w3/elliptical/NGC 855-raw_sum.csv', 'w3/elliptical/NGC 1404-raw_sum.csv', 'w3/elliptical/NGC 584-raw_sum.csv', 'w3/elliptical/NGC 5866-raw_sum.csv']\n"
     ]
    }
   ],
   "source": [
    "sub_sec = 50 # should be the same as sub_sec in MEASURE SFR.ipynb\n",
    "\n",
    "super_w1_elliptical_mean = np.zeros(sub_sec)\n",
    "super_w1_spiral_mean = np.zeros(sub_sec)\n",
    "super_w3_elliptical_mean = np.zeros(sub_sec)\n",
    "super_w3_spiral_mean = np.zeros(sub_sec)\n",
    "super_w1_elliptical_sum = np.zeros(sub_sec)\n",
    "super_w1_spiral_sum = np.zeros(sub_sec)\n",
    "super_w3_elliptical_sum = np.zeros(sub_sec)\n",
    "super_w3_spiral_sum = np.zeros(sub_sec)\n",
    "\n",
    "galaxies_list = [\n",
    "    'NGC 300',\n",
    "    'M 99',\n",
    "    'NGC 3938',\n",
    "    'NGC 3184',\n",
    "    'M 100', \n",
    "    'M 74',\n",
    "    'NGC 1304',\n",
    "    'NGC 3265',\n",
    "    'NGC 855',\n",
    "    'NGC 1404', \n",
    "    'NGC 584',\n",
    "    'NGC 5866'\n",
    "]\n",
    "\n",
    "with open('GALAXY INFO.csv') as csvfile: galaxy_info = list(csv.reader(csvfile))\n",
    "\n",
    "raw_data_list = np.empty(len(galaxies_list * 2), dtype=np.dtype('U35'))\n",
    "\n",
    "for i in range(len(raw_data_list)):   \n",
    "    if i < 12:\n",
    "        if galaxies_list[i] == galaxy_info[i + 1][0]:\n",
    "            gal_type = galaxy_info[i + 1][3]\n",
    "            mean_gal = galaxies_list[i] + '-raw_mean.csv'\n",
    "            \n",
    "            if gal_type == 'Spiral': raw_data_list[i] = 'spiral/' + mean_gal            \n",
    "            if gal_type == 'Elliptical': raw_data_list[i] = 'elliptical/' + mean_gal\n",
    "    else:\n",
    "        i2 =  i - 12\n",
    "        if galaxies_list[i2] == galaxy_info[i2 + 1][0]:\n",
    "            gal_type = galaxy_info[i2 + 1][3]\n",
    "            sum_gal = galaxies_list[i2] + '-raw_sum.csv'\n",
    "\n",
    "            if gal_type == 'Spiral': raw_data_list[i] = 'spiral/' + sum_gal\n",
    "            if gal_type == 'Elliptical': raw_data_list[i] = 'elliptical/' + sum_gal\n",
    "\n",
    "w1_raw_data_list = [w1 + sub for sub in raw_data_list]\n",
    "w3_raw_data_list = [w3 + sub for sub in raw_data_list]\n",
    "FUV_raw_data_list = [FUV + sub for sub in raw_data_list]\n",
    "NUV_raw_data_list = [NUV + sub for sub in raw_data_list]\n",
    "\n",
    "wise_raw_data_list = w1_raw_data_list + w3_raw_data_list\n",
    "galex_raw_data_list = FUV_raw_data_list + NUV_raw_data_list\n",
    "\n",
    "full_raw_data_list = wise_raw_data_list + galex_raw_data_list\n",
    "\n",
    "print(wise_raw_data_list)"
   ]
  },
  {
   "cell_type": "code",
   "execution_count": 43,
   "metadata": {},
   "outputs": [
    {
     "name": "stdout",
     "output_type": "stream",
     "text": [
      "[0. 0. 0. 0. 0. 0. 0. 0. 0. 0. 0. 0. 0. 0. 0. 0. 0. 0. 0. 0. 0. 0. 0. 0.\n",
      " 0. 0. 0. 0. 0. 0. 0. 0. 0. 0. 0. 0. 0. 0. 0. 0. 0. 0. 0. 0. 0. 0. 0. 0.\n",
      " 0. 0.]\n"
     ]
    }
   ],
   "source": [
    "for loop, current_csv in enumerate(wise_raw_data_list):\n",
    "    end = len(current_csv) - 4\n",
    "    annoying_csv = current_csv[3:end]\n",
    "    # sorry for calling it annoying, but i was annoyed with how to deal with this\n",
    "\n",
    "    galaxy_type = annoying_csv[0:3] # check for 'ell' or else ('spi')\n",
    "    raw_data_type = annoying_csv[len(annoying_csv) - 4:len(annoying_csv)] # check for 'mean' or else ('_sum')\n",
    " \n",
    "    if galaxy_type == 'ell':\n",
    "        if raw_data_type == 'mean':\n",
    "            pass\n",
    "\n",
    "            # AHHHHHHHHHHHHHHHHHHHHHHHHHHHHHHHHHHHHHHHHHHHHHHH\n",
    "\n",
    "        else:\n",
    "            pass\n",
    "    else:\n",
    "        pass\n",
    "\n",
    "print(super_w1_elliptical_mean)\n",
    "\n",
    "#repeat above code with w3-mean, w1-sum, w3-sum"
   ]
  },
  {
   "cell_type": "markdown",
   "metadata": {},
   "source": [
    "# Two Sample T-Tests (with Equal Variances)"
   ]
  },
  {
   "cell_type": "code",
   "execution_count": null,
   "metadata": {},
   "outputs": [],
   "source": [
    "df = pd.read_csv('saved super galaxies/w1-mean-super_galaxies.csv')\n",
    "res.ttest(df=df, xfac='Galaxy Type', res='SFR', test_type=2)\n",
    "\n",
    "print(res.summary)"
   ]
  },
  {
   "cell_type": "code",
   "execution_count": null,
   "metadata": {},
   "outputs": [],
   "source": [
    "# repeat above code for w1/w3 and mean/sum"
   ]
  },
  {
   "cell_type": "markdown",
   "metadata": {},
   "source": [
    "### All `super_galaxies.csv` files should look like this\n",
    "\n",
    "Galaxy Type|SFR\n",
    ":---:|:---:\n",
    "Elliptical|7\n",
    "Elliptical|continue\n",
    "Elliptical|for\n",
    "Elliptical|all\n",
    "Elliptical|50\n",
    "Elliptical|data points\n",
    "Spiral|7\n",
    "Spiral|continue\n",
    "Spiral|for\n",
    "Spiral|all\n",
    "Spiral|50\n",
    "Spiral|data points"
   ]
  }
 ],
 "metadata": {
  "kernelspec": {
   "display_name": "Python 3.10.6 64-bit (microsoft store)",
   "language": "python",
   "name": "python3"
  },
  "language_info": {
   "codemirror_mode": {
    "name": "ipython",
    "version": 3
   },
   "file_extension": ".py",
   "mimetype": "text/x-python",
   "name": "python",
   "nbconvert_exporter": "python",
   "pygments_lexer": "ipython3",
   "version": "3.10.6"
  },
  "orig_nbformat": 4,
  "vscode": {
   "interpreter": {
    "hash": "fcd6d2daf5828a842b27f47644a9066c1531554a3ce2a9eed3b68d1ea9dbad31"
   }
  }
 },
 "nbformat": 4,
 "nbformat_minor": 2
}
