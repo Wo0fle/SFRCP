{
 "cells": [
  {
   "cell_type": "markdown",
   "metadata": {},
   "source": [
    "# Introduction\n",
    "\n",
    "### SFRCP: Data Analysis\n",
    "\n",
    "This is the program that was used for my study, \"Comparison of Star Formation Rate in Spiral versus Elliptical Galaxies.\"\n",
    "\n",
    "It will be split into different sections for simplicity, with comments explaining each section of code.\n",
    "\n",
    "##### Note: This is a new program that was created after I decided to revise my original study."
   ]
  },
  {
   "cell_type": "markdown",
   "metadata": {},
   "source": [
    "# Imports and Setup"
   ]
  },
  {
   "cell_type": "code",
   "execution_count": 8,
   "metadata": {},
   "outputs": [],
   "source": [
    "import csv\n",
    "import numpy as np\n",
    "from bioinfokit.analys import get_data, stat\n",
    "\n",
    "res = stat()\n",
    "\n",
    "prefix = 'saved raw data/'\n",
    "suffix = '.csv'\n",
    "FUV = 'FUV'\n",
    "NUV = 'NUV'\n",
    "w1 = 'w1'\n",
    "w3 = 'w3'\n",
    "elliptical = 'elliptical' \n",
    "spiral =  'spiral'"
   ]
  },
  {
   "cell_type": "code",
   "execution_count": 7,
   "metadata": {},
   "outputs": [
    {
     "data": {
      "text/plain": [
       "''"
      ]
     },
     "execution_count": 7,
     "metadata": {},
     "output_type": "execute_result"
    }
   ],
   "source": [
    "# create super_elliptical and super_spiral (avg all data to get 50 final data points)\n"
   ]
  },
  {
   "cell_type": "code",
   "execution_count": null,
   "metadata": {},
   "outputs": [],
   "source": [
    "# 2 sample t test se and ss"
   ]
  }
 ],
 "metadata": {
  "kernelspec": {
   "display_name": "Python 3.10.6 64-bit (microsoft store)",
   "language": "python",
   "name": "python3"
  },
  "language_info": {
   "codemirror_mode": {
    "name": "ipython",
    "version": 3
   },
   "file_extension": ".py",
   "mimetype": "text/x-python",
   "name": "python",
   "nbconvert_exporter": "python",
   "pygments_lexer": "ipython3",
   "version": "3.10.6"
  },
  "orig_nbformat": 4,
  "vscode": {
   "interpreter": {
    "hash": "fcd6d2daf5828a842b27f47644a9066c1531554a3ce2a9eed3b68d1ea9dbad31"
   }
  }
 },
 "nbformat": 4,
 "nbformat_minor": 2
}
