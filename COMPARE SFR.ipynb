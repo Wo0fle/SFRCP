{
 "cells": [
  {
   "cell_type": "markdown",
   "metadata": {},
   "source": [
    "# Introduction\n",
    "\n",
    "### SFRCP: Data Analysis\n",
    "\n",
    "This is the program that was used for my study, \"Comparison of Star Formation Rate in Spiral versus Elliptical Galaxies.\"\n",
    "\n",
    "It will be split into different sections for simplicity, with comments explaining each section of code.\n",
    "\n",
    "##### Note: This is a new program that was created after I decided to revise my original study."
   ]
  },
  {
   "cell_type": "markdown",
   "metadata": {},
   "source": [
    "# Imports and Setup"
   ]
  },
  {
   "cell_type": "code",
   "execution_count": null,
   "metadata": {},
   "outputs": [],
   "source": [
    "import csv\n",
    "import numpy as np\n",
    "import pandas as pd\n",
    "from bioinfokit.analys import stat\n",
    "\n",
    "res = stat()\n",
    "\n",
    "prefix = 'saved raw data/'\n",
    "suffix = '.csv'\n",
    "#FUV = 'FUV'\n",
    "#NUV = 'NUV'\n",
    "w1 = 'w1'\n",
    "w3 = 'w3'\n",
    "elliptical = 'elliptical' \n",
    "spiral =  'spiral'\n",
    "mean = 'mean'\n",
    "sum = 'sum'"
   ]
  },
  {
   "cell_type": "markdown",
   "metadata": {},
   "source": [
    "# Create \"Super Galaxies\""
   ]
  },
  {
   "cell_type": "code",
   "execution_count": null,
   "metadata": {},
   "outputs": [],
   "source": [
    "# create super_elliptical and super_spiral (avg all data to get 50 final data points)\n",
    "# top down design time"
   ]
  },
  {
   "cell_type": "code",
   "execution_count": null,
   "metadata": {},
   "outputs": [],
   "source": [
    "sub_sec = 50 # should be the same as sub_sec in MEASURE SFR.ipynb\n",
    "\n",
    "super_w1_elliptical_mean = np.zeros(sub_sec)\n",
    "super_w1_spiral_mean = np.zeros(sub_sec)\n",
    "super_w3_elliptical_mean = np.zeros(sub_sec)\n",
    "super_w3_spiral_mean = np.zeros(sub_sec)\n",
    "super_w1_elliptical_sum = np.zeros(sub_sec)\n",
    "super_w1_spiral_sum = np.zeros(sub_sec)\n",
    "super_w3_elliptical_sum = np.zeros(sub_sec)\n",
    "super_w3_spiral_sum = np.zeros(sub_sec)"
   ]
  },
  {
   "cell_type": "code",
   "execution_count": null,
   "metadata": {},
   "outputs": [],
   "source": [
    "\"\"\" \n",
    "loop through all raw w1 (idx = loop)\n",
    "    if elliptical\n",
    "        if mean\n",
    "            super_w1_elliptical_mean[loop] = avg all terms in ith place (idx = i)\n",
    "    if spiral\n",
    "        if mean\n",
    "            super_w1_spiral_mean[loop] = avg all terms in ith place (idx = i)\n",
    "\"\"\"\n",
    "\n",
    "#repeat above code with w3-mean, w1-sum, w3-sum"
   ]
  },
  {
   "cell_type": "markdown",
   "metadata": {},
   "source": [
    "# Two Sample T-Tests (with Equal Variances)"
   ]
  },
  {
   "cell_type": "code",
   "execution_count": null,
   "metadata": {},
   "outputs": [],
   "source": [
    "df = pd.read_csv('saved super galaxies/w1-mean-super_galaxies.csv')\n",
    "\n",
    "res.ttest(df=df, xfac='Galaxy Type', res='SFR', test_type=2)\n",
    "\n",
    "print(res.summary)"
   ]
  },
  {
   "cell_type": "code",
   "execution_count": null,
   "metadata": {},
   "outputs": [],
   "source": [
    "# repeat above code for w1/w3 and mean/sum"
   ]
  },
  {
   "cell_type": "markdown",
   "metadata": {},
   "source": [
    "### All `super_galaxies.csv` files should look like this\n",
    "\n",
    "Galaxy Type|SFR\n",
    ":---:|:---:\n",
    "Elliptical|7\n",
    "Elliptical|continue\n",
    "Elliptical|for\n",
    "Elliptical|all\n",
    "Elliptical|50\n",
    "Elliptical|data points\n",
    "Spiral|7\n",
    "Spiral|continue\n",
    "Spiral|for\n",
    "Spiral|all\n",
    "Spiral|50\n",
    "Spiral|data points"
   ]
  }
 ],
 "metadata": {
  "kernelspec": {
   "display_name": "Python 3.10.6 64-bit (microsoft store)",
   "language": "python",
   "name": "python3"
  },
  "language_info": {
   "codemirror_mode": {
    "name": "ipython",
    "version": 3
   },
   "file_extension": ".py",
   "mimetype": "text/x-python",
   "name": "python",
   "nbconvert_exporter": "python",
   "pygments_lexer": "ipython3",
   "version": "3.10.6"
  },
  "orig_nbformat": 4,
  "vscode": {
   "interpreter": {
    "hash": "fcd6d2daf5828a842b27f47644a9066c1531554a3ce2a9eed3b68d1ea9dbad31"
   }
  }
 },
 "nbformat": 4,
 "nbformat_minor": 2
}
