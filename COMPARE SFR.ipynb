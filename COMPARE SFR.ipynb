{
 "cells": [
  {
   "cell_type": "markdown",
   "metadata": {},
   "source": [
    "# Introduction\n",
    "\n",
    "### SFRCP: Data Analysis\n",
    "\n",
    "This script will be split into different sections for simplicity, with comments explaining each section of code.\n"
   ]
  },
  {
   "cell_type": "markdown",
   "metadata": {},
   "source": [
    "# Imports and Setup"
   ]
  },
  {
   "cell_type": "code",
   "execution_count": null,
   "metadata": {},
   "outputs": [],
   "source": [
    "import csv\n",
    "import numpy as np\n",
    "\n",
    "prefix = 'saved raw data/'\n",
    "FUV = 'FUV/'\n",
    "NUV = 'NUV/'\n",
    "w1 = 'w1/'\n",
    "w3 = 'w3/'"
   ]
  },
  {
   "cell_type": "code",
   "execution_count": null,
   "metadata": {},
   "outputs": [],
   "source": [
    "galaxies_list = [\n",
    "    'NGC 300',\n",
    "    'M 99',\n",
    "    'NGC 3938',\n",
    "    'NGC 3184',\n",
    "    'M 100', \n",
    "    'M 74',\n",
    "    'NGC 1304',\n",
    "    'NGC 3265',\n",
    "    'NGC 855',\n",
    "    'NGC 1404', \n",
    "    'NGC 584',\n",
    "    'NGC 5866'\n",
    "]\n",
    "\n",
    "with open('GALAXY INFO.csv') as csvfile: galaxy_info = list(csv.reader(csvfile))\n",
    "\n",
    "raw_data_list = np.empty(len(galaxies_list) * 2, dtype=np.dtype('U35'))\n",
    "\n",
    "for i in range(len(raw_data_list)):   \n",
    "    if i < 12:\n",
    "        if galaxies_list[i] == galaxy_info[i + 1][0]:\n",
    "            gal_type = galaxy_info[i + 1][3]\n",
    "            mean_gal = galaxies_list[i] + '-raw_mean.csv'\n",
    "            \n",
    "            if gal_type == 'Spiral': raw_data_list[i] = 'spiral/' + mean_gal            \n",
    "            if gal_type == 'Elliptical': raw_data_list[i] = 'elliptical/' + mean_gal\n",
    "    else:\n",
    "        i2 =  i - 12\n",
    "        if galaxies_list[i2] == galaxy_info[i2 + 1][0]:\n",
    "            gal_type = galaxy_info[i2 + 1][3]\n",
    "            sum_gal = galaxies_list[i2] + '-raw_sum.csv'\n",
    "\n",
    "            if gal_type == 'Spiral': raw_data_list[i] = 'spiral/' + sum_gal\n",
    "            if gal_type == 'Elliptical': raw_data_list[i] = 'elliptical/' + sum_gal\n",
    "\n",
    "w1_raw_data_list = [w1 + sub for sub in raw_data_list]\n",
    "w3_raw_data_list = [w3 + sub for sub in raw_data_list]\n",
    "FUV_raw_data_list = [FUV + sub for sub in raw_data_list]\n",
    "NUV_raw_data_list = [NUV + sub for sub in raw_data_list]\n",
    "\n",
    "wise_raw_data_list = w1_raw_data_list + w3_raw_data_list\n",
    "galex_raw_data_list = FUV_raw_data_list + NUV_raw_data_list\n",
    "\n",
    "# full_raw_data_list = wise_raw_data_list + galex_raw_data_list"
   ]
  },
  {
   "cell_type": "markdown",
   "metadata": {},
   "source": [
    "# BUT HOW WILL ANALYSIS WORK THIS TIME? SUPER GALAXIES? COMPARE SLOPES? IDK YET"
   ]
  },
  {
   "cell_type": "code",
   "execution_count": null,
   "metadata": {},
   "outputs": [],
   "source": [
    "# code goes here"
   ]
  }
 ],
 "metadata": {
  "kernelspec": {
   "display_name": "Python 3.10.6 64-bit (microsoft store)",
   "language": "python",
   "name": "python3"
  },
  "language_info": {
   "codemirror_mode": {
    "name": "ipython",
    "version": 3
   },
   "file_extension": ".py",
   "mimetype": "text/x-python",
   "name": "python",
   "nbconvert_exporter": "python",
   "pygments_lexer": "ipython3",
   "version": "3.10.6"
  },
  "orig_nbformat": 4,
  "vscode": {
   "interpreter": {
    "hash": "fcd6d2daf5828a842b27f47644a9066c1531554a3ce2a9eed3b68d1ea9dbad31"
   }
  }
 },
 "nbformat": 4,
 "nbformat_minor": 2
}
